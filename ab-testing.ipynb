{
 "cells": [
  {
   "cell_type": "markdown",
   "id": "20ba64a8",
   "metadata": {
    "papermill": {
     "duration": 0.014295,
     "end_time": "2022-02-27T10:16:04.722446",
     "exception": false,
     "start_time": "2022-02-27T10:16:04.708151",
     "status": "completed"
    },
    "tags": []
   },
   "source": [
    "AB Testing, also known as unpaired t test, is a parametric test to evaluate whether two independent groups have statistically significant differences. In order to do the testing, there are two assumptions that must be checked:\n",
    "* Normality: The proximity of median and mean values in the datasets.\n",
    "* Variance homogeneity: The similarity of distribution in both datasets. \n",
    "\n",
    "The datasets contains the website information of a company. There are the user reactions for the ads for two different bidding options in the datasets. Control Group dataset contains the maximum bidding option whereas Test Group contains average bidding. It is wanted to clarify whether the average bidding is more advantageous than the maximum bidding.\n",
    "The variables:\n",
    "* Impression: Number of ad views\n",
    "* Click: Number of clicks the ads\n",
    "* Purchase: Number of purchases after clicking the ad\n",
    "* Earning: Earning amount after the purchases"
   ]
  },
  {
   "cell_type": "code",
   "execution_count": 1,
   "id": "0756525e",
   "metadata": {
    "execution": {
     "iopub.execute_input": "2022-02-27T10:16:04.752528Z",
     "iopub.status.busy": "2022-02-27T10:16:04.751662Z",
     "iopub.status.idle": "2022-02-27T10:16:04.767728Z",
     "shell.execute_reply": "2022-02-27T10:16:04.768121Z",
     "shell.execute_reply.started": "2022-02-27T09:55:20.928381Z"
    },
    "papermill": {
     "duration": 0.032564,
     "end_time": "2022-02-27T10:16:04.768376",
     "exception": false,
     "start_time": "2022-02-27T10:16:04.735812",
     "status": "completed"
    },
    "tags": []
   },
   "outputs": [
    {
     "name": "stdout",
     "output_type": "stream",
     "text": [
      "/kaggle/input/ab-testing-dataset/ab_testing.xlsx\n"
     ]
    }
   ],
   "source": [
    "# This Python 3 environment comes with many helpful analytics libraries installed\n",
    "# It is defined by the kaggle/python Docker image: https://github.com/kaggle/docker-python\n",
    "# For example, here's several helpful packages to load\n",
    "\n",
    "import numpy as np # linear algebra\n",
    "import pandas as pd # data processing, CSV file I/O (e.g. pd.read_csv)\n",
    "\n",
    "# Input data files are available in the read-only \"../input/\" directory\n",
    "# For example, running this (by clicking run or pressing Shift+Enter) will list all files under the input directory\n",
    "\n",
    "import os\n",
    "for dirname, _, filenames in os.walk('/kaggle/input'):\n",
    "    for filename in filenames:\n",
    "        print(os.path.join(dirname, filename))\n",
    "\n",
    "# You can write up to 20GB to the current directory (/kaggle/working/) that gets preserved as output when you create a version using \"Save & Run All\" \n",
    "# You can also write temporary files to /kaggle/temp/, but they won't be saved outside of the current session"
   ]
  },
  {
   "cell_type": "code",
   "execution_count": 2,
   "id": "9325e45a",
   "metadata": {
    "execution": {
     "iopub.execute_input": "2022-02-27T10:16:04.796132Z",
     "iopub.status.busy": "2022-02-27T10:16:04.795133Z",
     "iopub.status.idle": "2022-02-27T10:16:14.775505Z",
     "shell.execute_reply": "2022-02-27T10:16:14.774930Z",
     "shell.execute_reply.started": "2022-02-27T09:55:23.976358Z"
    },
    "papermill": {
     "duration": 9.997245,
     "end_time": "2022-02-27T10:16:14.775616",
     "exception": false,
     "start_time": "2022-02-27T10:16:04.778371",
     "status": "completed"
    },
    "tags": []
   },
   "outputs": [
    {
     "name": "stdout",
     "output_type": "stream",
     "text": [
      "Collecting openpyxl\r\n",
      "  Downloading openpyxl-3.0.9-py2.py3-none-any.whl (242 kB)\r\n",
      "     |████████████████████████████████| 242 kB 4.1 MB/s            \r\n",
      "\u001b[?25hCollecting et-xmlfile\r\n",
      "  Downloading et_xmlfile-1.1.0-py3-none-any.whl (4.7 kB)\r\n",
      "Installing collected packages: et-xmlfile, openpyxl\r\n",
      "Successfully installed et-xmlfile-1.1.0 openpyxl-3.0.9\r\n",
      "\u001b[33mWARNING: Running pip as the 'root' user can result in broken permissions and conflicting behaviour with the system package manager. It is recommended to use a virtual environment instead: https://pip.pypa.io/warnings/venv\u001b[0m\r\n"
     ]
    }
   ],
   "source": [
    "import matplotlib.pyplot as plt\n",
    "import pandas as pd\n",
    "from scipy.stats import shapiro, ttest_ind\n",
    "import scipy.stats as stats\n",
    "pd.set_option('display.max_columns', None)\n",
    "!pip install openpyxl"
   ]
  },
  {
   "cell_type": "code",
   "execution_count": 3,
   "id": "6b2ef1ba",
   "metadata": {
    "execution": {
     "iopub.execute_input": "2022-02-27T10:16:14.805571Z",
     "iopub.status.busy": "2022-02-27T10:16:14.804864Z",
     "iopub.status.idle": "2022-02-27T10:16:15.023067Z",
     "shell.execute_reply": "2022-02-27T10:16:15.023571Z",
     "shell.execute_reply.started": "2022-02-27T09:56:28.137571Z"
    },
    "papermill": {
     "duration": 0.235378,
     "end_time": "2022-02-27T10:16:15.023729",
     "exception": false,
     "start_time": "2022-02-27T10:16:14.788351",
     "status": "completed"
    },
    "tags": []
   },
   "outputs": [
    {
     "data": {
      "text/html": [
       "<div>\n",
       "<style scoped>\n",
       "    .dataframe tbody tr th:only-of-type {\n",
       "        vertical-align: middle;\n",
       "    }\n",
       "\n",
       "    .dataframe tbody tr th {\n",
       "        vertical-align: top;\n",
       "    }\n",
       "\n",
       "    .dataframe thead th {\n",
       "        text-align: right;\n",
       "    }\n",
       "</style>\n",
       "<table border=\"1\" class=\"dataframe\">\n",
       "  <thead>\n",
       "    <tr style=\"text-align: right;\">\n",
       "      <th></th>\n",
       "      <th>Impression</th>\n",
       "      <th>Click</th>\n",
       "      <th>Purchase</th>\n",
       "      <th>Earning</th>\n",
       "    </tr>\n",
       "  </thead>\n",
       "  <tbody>\n",
       "    <tr>\n",
       "      <th>0</th>\n",
       "      <td>82529.459271</td>\n",
       "      <td>6090.077317</td>\n",
       "      <td>665.211255</td>\n",
       "      <td>2311.277143</td>\n",
       "    </tr>\n",
       "    <tr>\n",
       "      <th>1</th>\n",
       "      <td>98050.451926</td>\n",
       "      <td>3382.861786</td>\n",
       "      <td>315.084895</td>\n",
       "      <td>1742.806855</td>\n",
       "    </tr>\n",
       "    <tr>\n",
       "      <th>2</th>\n",
       "      <td>82696.023549</td>\n",
       "      <td>4167.965750</td>\n",
       "      <td>458.083738</td>\n",
       "      <td>1797.827447</td>\n",
       "    </tr>\n",
       "    <tr>\n",
       "      <th>3</th>\n",
       "      <td>109914.400398</td>\n",
       "      <td>4910.882240</td>\n",
       "      <td>487.090773</td>\n",
       "      <td>1696.229178</td>\n",
       "    </tr>\n",
       "    <tr>\n",
       "      <th>4</th>\n",
       "      <td>108457.762630</td>\n",
       "      <td>5987.655811</td>\n",
       "      <td>441.034050</td>\n",
       "      <td>1543.720179</td>\n",
       "    </tr>\n",
       "  </tbody>\n",
       "</table>\n",
       "</div>"
      ],
      "text/plain": [
       "      Impression        Click    Purchase      Earning\n",
       "0   82529.459271  6090.077317  665.211255  2311.277143\n",
       "1   98050.451926  3382.861786  315.084895  1742.806855\n",
       "2   82696.023549  4167.965750  458.083738  1797.827447\n",
       "3  109914.400398  4910.882240  487.090773  1696.229178\n",
       "4  108457.762630  5987.655811  441.034050  1543.720179"
      ]
     },
     "execution_count": 3,
     "metadata": {},
     "output_type": "execute_result"
    }
   ],
   "source": [
    "Control_Group = pd.read_excel(\"../input/ab-testing-dataset/ab_testing.xlsx\", sheet_name='Control Group')  # maximum bidding\n",
    "Control_Group.head()"
   ]
  },
  {
   "cell_type": "code",
   "execution_count": 4,
   "id": "8059da41",
   "metadata": {
    "execution": {
     "iopub.execute_input": "2022-02-27T10:16:15.065121Z",
     "iopub.status.busy": "2022-02-27T10:16:15.064295Z",
     "iopub.status.idle": "2022-02-27T10:16:15.093565Z",
     "shell.execute_reply": "2022-02-27T10:16:15.093027Z",
     "shell.execute_reply.started": "2022-02-27T09:56:31.217306Z"
    },
    "papermill": {
     "duration": 0.051981,
     "end_time": "2022-02-27T10:16:15.093685",
     "exception": false,
     "start_time": "2022-02-27T10:16:15.041704",
     "status": "completed"
    },
    "tags": []
   },
   "outputs": [
    {
     "data": {
      "text/html": [
       "<div>\n",
       "<style scoped>\n",
       "    .dataframe tbody tr th:only-of-type {\n",
       "        vertical-align: middle;\n",
       "    }\n",
       "\n",
       "    .dataframe tbody tr th {\n",
       "        vertical-align: top;\n",
       "    }\n",
       "\n",
       "    .dataframe thead th {\n",
       "        text-align: right;\n",
       "    }\n",
       "</style>\n",
       "<table border=\"1\" class=\"dataframe\">\n",
       "  <thead>\n",
       "    <tr style=\"text-align: right;\">\n",
       "      <th></th>\n",
       "      <th>Impression</th>\n",
       "      <th>Click</th>\n",
       "      <th>Purchase</th>\n",
       "      <th>Earning</th>\n",
       "    </tr>\n",
       "  </thead>\n",
       "  <tbody>\n",
       "    <tr>\n",
       "      <th>0</th>\n",
       "      <td>120103.503796</td>\n",
       "      <td>3216.547958</td>\n",
       "      <td>702.160346</td>\n",
       "      <td>1939.611243</td>\n",
       "    </tr>\n",
       "    <tr>\n",
       "      <th>1</th>\n",
       "      <td>134775.943363</td>\n",
       "      <td>3635.082422</td>\n",
       "      <td>834.054286</td>\n",
       "      <td>2929.405820</td>\n",
       "    </tr>\n",
       "    <tr>\n",
       "      <th>2</th>\n",
       "      <td>107806.620788</td>\n",
       "      <td>3057.143560</td>\n",
       "      <td>422.934258</td>\n",
       "      <td>2526.244877</td>\n",
       "    </tr>\n",
       "    <tr>\n",
       "      <th>3</th>\n",
       "      <td>116445.275526</td>\n",
       "      <td>4650.473911</td>\n",
       "      <td>429.033535</td>\n",
       "      <td>2281.428574</td>\n",
       "    </tr>\n",
       "    <tr>\n",
       "      <th>4</th>\n",
       "      <td>145082.516838</td>\n",
       "      <td>5201.387724</td>\n",
       "      <td>749.860442</td>\n",
       "      <td>2781.697521</td>\n",
       "    </tr>\n",
       "  </tbody>\n",
       "</table>\n",
       "</div>"
      ],
      "text/plain": [
       "      Impression        Click    Purchase      Earning\n",
       "0  120103.503796  3216.547958  702.160346  1939.611243\n",
       "1  134775.943363  3635.082422  834.054286  2929.405820\n",
       "2  107806.620788  3057.143560  422.934258  2526.244877\n",
       "3  116445.275526  4650.473911  429.033535  2281.428574\n",
       "4  145082.516838  5201.387724  749.860442  2781.697521"
      ]
     },
     "execution_count": 4,
     "metadata": {},
     "output_type": "execute_result"
    }
   ],
   "source": [
    "Test_Group = pd.read_excel(\"../input/ab-testing-dataset/ab_testing.xlsx\", sheet_name='Test Group') # average bidding\n",
    "Test_Group.head()"
   ]
  },
  {
   "cell_type": "code",
   "execution_count": 5,
   "id": "9c7c9dcf",
   "metadata": {
    "execution": {
     "iopub.execute_input": "2022-02-27T10:16:15.130631Z",
     "iopub.status.busy": "2022-02-27T10:16:15.130126Z",
     "iopub.status.idle": "2022-02-27T10:16:15.133121Z",
     "shell.execute_reply": "2022-02-27T10:16:15.132596Z",
     "shell.execute_reply.started": "2022-02-27T09:56:33.932203Z"
    },
    "papermill": {
     "duration": 0.026111,
     "end_time": "2022-02-27T10:16:15.133234",
     "exception": false,
     "start_time": "2022-02-27T10:16:15.107123",
     "status": "completed"
    },
    "tags": []
   },
   "outputs": [],
   "source": [
    "groupA = Control_Group[\"Purchase\"]\n",
    "groupB = Test_Group[\"Purchase\"]"
   ]
  },
  {
   "cell_type": "markdown",
   "id": "55525d0f",
   "metadata": {
    "papermill": {
     "duration": 0.012609,
     "end_time": "2022-02-27T10:16:15.158907",
     "exception": false,
     "start_time": "2022-02-27T10:16:15.146298",
     "status": "completed"
    },
    "tags": []
   },
   "source": [
    "# Testing of Assumptions"
   ]
  },
  {
   "cell_type": "code",
   "execution_count": 6,
   "id": "a7e0f6ec",
   "metadata": {
    "execution": {
     "iopub.execute_input": "2022-02-27T10:16:15.189541Z",
     "iopub.status.busy": "2022-02-27T10:16:15.188980Z",
     "iopub.status.idle": "2022-02-27T10:16:15.191340Z",
     "shell.execute_reply": "2022-02-27T10:16:15.191826Z",
     "shell.execute_reply.started": "2022-02-27T09:56:45.034485Z"
    },
    "papermill": {
     "duration": 0.020118,
     "end_time": "2022-02-27T10:16:15.192036",
     "exception": false,
     "start_time": "2022-02-27T10:16:15.171918",
     "status": "completed"
    },
    "tags": []
   },
   "outputs": [
    {
     "name": "stdout",
     "output_type": "stream",
     "text": [
      "Test stat = 0.9773, p-value = 0.5891\n",
      "Test stat = 0.9589, p-value = 0.1541\n"
     ]
    }
   ],
   "source": [
    "# Normality test: Null hypothesis H0 is built as to have the normality and H1 as to not have the normality.\n",
    "\n",
    "test_stat, pvalue = shapiro(groupA)\n",
    "print('Test stat = %.4f, p-value = %.4f' % (test_stat, pvalue))\n",
    "# p-value > 0.05, so H0 is accepted. Normality exists.\n",
    "\n",
    "test_stat, pvalue = shapiro(groupB)\n",
    "print('Test stat = %.4f, p-value = %.4f' % (test_stat, pvalue))\n",
    "# p-value > 0.05, so H0 is accepted. Normality exists."
   ]
  },
  {
   "cell_type": "code",
   "execution_count": 7,
   "id": "bba3fa63",
   "metadata": {
    "execution": {
     "iopub.execute_input": "2022-02-27T10:16:15.226214Z",
     "iopub.status.busy": "2022-02-27T10:16:15.225526Z",
     "iopub.status.idle": "2022-02-27T10:16:15.231107Z",
     "shell.execute_reply": "2022-02-27T10:16:15.230547Z",
     "shell.execute_reply.started": "2022-02-27T10:08:10.252894Z"
    },
    "papermill": {
     "duration": 0.023787,
     "end_time": "2022-02-27T10:16:15.231555",
     "exception": false,
     "start_time": "2022-02-27T10:16:15.207768",
     "status": "completed"
    },
    "tags": []
   },
   "outputs": [
    {
     "name": "stdout",
     "output_type": "stream",
     "text": [
      "Test stat = 2.6393, p-value = 0.1083\n"
     ]
    }
   ],
   "source": [
    "# Variance Homogeneity: Null hypothesis H0 is built as variances to be homogeneous and H1 as variances to not be homogeneous.\n",
    "\n",
    "test_stat, pvalue = stats.levene(groupA,groupB)\n",
    "print('Test stat = %.4f, p-value = %.4f' % (test_stat, pvalue))\n",
    "# p-value > 0.05, so H0 is accepted. Variances are homogeneous.\n"
   ]
  },
  {
   "cell_type": "markdown",
   "id": "f76f389f",
   "metadata": {
    "papermill": {
     "duration": 0.013203,
     "end_time": "2022-02-27T10:16:15.259145",
     "exception": false,
     "start_time": "2022-02-27T10:16:15.245942",
     "status": "completed"
    },
    "tags": []
   },
   "source": [
    "# Applying the hypothesis"
   ]
  },
  {
   "cell_type": "code",
   "execution_count": 8,
   "id": "1142f3d3",
   "metadata": {
    "execution": {
     "iopub.execute_input": "2022-02-27T10:16:15.292521Z",
     "iopub.status.busy": "2022-02-27T10:16:15.291936Z",
     "iopub.status.idle": "2022-02-27T10:16:15.295077Z",
     "shell.execute_reply": "2022-02-27T10:16:15.294590Z",
     "shell.execute_reply.started": "2022-02-27T10:13:15.316099Z"
    },
    "papermill": {
     "duration": 0.022095,
     "end_time": "2022-02-27T10:16:15.295182",
     "exception": false,
     "start_time": "2022-02-27T10:16:15.273087",
     "status": "completed"
    },
    "tags": []
   },
   "outputs": [
    {
     "name": "stdout",
     "output_type": "stream",
     "text": [
      "Test Stat = -0.9416, p-value = 0.3493\n"
     ]
    }
   ],
   "source": [
    "# The assumptions are satisfied, so unpaired t test can be done between two groups.\n",
    "# H0: There is no statistically significant difference between the average of purchase numbers of Control Group and Test Group.\n",
    "# H1: There is a statistically significant difference between the average of purchase numbers of Control Group and Test Group.\n",
    "\n",
    "res, pvalue = ttest_ind(groupA,groupB,equal_var=True)\n",
    "print('Test Stat = %.4f, p-value = %.4f' % (res, pvalue))\n",
    "\n",
    "# p-value > 0.05, so H0 is accepted. Therefore there is no statistically significant difference between Control group that is offered maximum bidding and Test Group that is offered average bidding.\n"
   ]
  }
 ],
 "metadata": {
  "kernelspec": {
   "display_name": "Python 3",
   "language": "python",
   "name": "python3"
  },
  "language_info": {
   "codemirror_mode": {
    "name": "ipython",
    "version": 3
   },
   "file_extension": ".py",
   "mimetype": "text/x-python",
   "name": "python",
   "nbconvert_exporter": "python",
   "pygments_lexer": "ipython3",
   "version": "3.7.12"
  },
  "papermill": {
   "default_parameters": {},
   "duration": 19.958153,
   "end_time": "2022-02-27T10:16:16.019259",
   "environment_variables": {},
   "exception": null,
   "input_path": "__notebook__.ipynb",
   "output_path": "__notebook__.ipynb",
   "parameters": {},
   "start_time": "2022-02-27T10:15:56.061106",
   "version": "2.3.3"
  }
 },
 "nbformat": 4,
 "nbformat_minor": 5
}
